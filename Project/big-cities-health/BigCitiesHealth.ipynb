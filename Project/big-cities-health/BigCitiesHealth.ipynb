{
 "cells": [
  {
   "cell_type": "code",
   "execution_count": 3,
   "metadata": {},
   "outputs": [],
   "source": [
    "import matplotlib.pyplot as plt\n",
    "import pandas as pd\n",
    "import numpy as np\n",
    "from sklearn.metrics import roc_curve, confusion_matrix, auc"
   ]
  },
  {
   "cell_type": "code",
   "execution_count": 4,
   "metadata": {},
   "outputs": [],
   "source": [
    "data = pd.read_excel('BigCitiesHealth.xlsx')"
   ]
  },
  {
   "cell_type": "code",
   "execution_count": 5,
   "metadata": {},
   "outputs": [
    {
     "data": {
      "text/html": [
       "<div>\n",
       "<style scoped>\n",
       "    .dataframe tbody tr th:only-of-type {\n",
       "        vertical-align: middle;\n",
       "    }\n",
       "\n",
       "    .dataframe tbody tr th {\n",
       "        vertical-align: top;\n",
       "    }\n",
       "\n",
       "    .dataframe thead th {\n",
       "        text-align: right;\n",
       "    }\n",
       "</style>\n",
       "<table border=\"1\" class=\"dataframe\">\n",
       "  <thead>\n",
       "    <tr style=\"text-align: right;\">\n",
       "      <th></th>\n",
       "      <th>metric_item_label</th>\n",
       "      <th>metric_cat_label</th>\n",
       "      <th>metric_subcat_label</th>\n",
       "      <th>metric_item_label_subtitle</th>\n",
       "      <th>metric_cat_item_yaxis_label</th>\n",
       "      <th>metric_source_desc_label_fn</th>\n",
       "      <th>metric_source_desc_label_url_fn</th>\n",
       "      <th>geo_label_city</th>\n",
       "      <th>geo_label_state</th>\n",
       "      <th>geo_label_citystate</th>\n",
       "      <th>...</th>\n",
       "      <th>value_90_ci_low</th>\n",
       "      <th>value_90_ci_high</th>\n",
       "      <th>geo_strata_region</th>\n",
       "      <th>geo_strata_poverty</th>\n",
       "      <th>geo_strata_Population</th>\n",
       "      <th>geo_strata_PopDensity</th>\n",
       "      <th>geo_strata_Segregation</th>\n",
       "      <th>strata_race_label</th>\n",
       "      <th>strata_sex_label</th>\n",
       "      <th>strata_race_sex_label</th>\n",
       "    </tr>\n",
       "  </thead>\n",
       "  <tbody>\n",
       "    <tr>\n",
       "      <th>148287</th>\n",
       "      <td>Premature Death</td>\n",
       "      <td>Life Expectancy and Deaths</td>\n",
       "      <td>Deaths</td>\n",
       "      <td>Years of potential life lost before age 75 (pe...</td>\n",
       "      <td>Years per 100,000 population aged &lt;75</td>\n",
       "      <td>National Vital Statistics System (NVSS), Cente...</td>\n",
       "      <td>https://www.cdc.gov/nchs/nvss/index.htm</td>\n",
       "      <td>New York City</td>\n",
       "      <td>NY</td>\n",
       "      <td>New York City, NY</td>\n",
       "      <td>...</td>\n",
       "      <td>NaN</td>\n",
       "      <td>NaN</td>\n",
       "      <td>Northeast</td>\n",
       "      <td>Less poor cities (&lt;20% poor)</td>\n",
       "      <td>Largest (&gt;1.3 million)</td>\n",
       "      <td>Highest pop. density (&gt;10k per sq mi)</td>\n",
       "      <td>Highly Segregated (50%+)</td>\n",
       "      <td>Hispanic</td>\n",
       "      <td>Both</td>\n",
       "      <td>NaN</td>\n",
       "    </tr>\n",
       "    <tr>\n",
       "      <th>148288</th>\n",
       "      <td>Premature Death</td>\n",
       "      <td>Life Expectancy and Deaths</td>\n",
       "      <td>Deaths</td>\n",
       "      <td>Years of potential life lost before age 75 (pe...</td>\n",
       "      <td>Years per 100,000 population aged &lt;75</td>\n",
       "      <td>National Vital Statistics System (NVSS), Cente...</td>\n",
       "      <td>https://www.cdc.gov/nchs/nvss/index.htm</td>\n",
       "      <td>Milwaukee</td>\n",
       "      <td>WI</td>\n",
       "      <td>Milwaukee, WI</td>\n",
       "      <td>...</td>\n",
       "      <td>NaN</td>\n",
       "      <td>NaN</td>\n",
       "      <td>Midwest</td>\n",
       "      <td>Poorest cities (20%+ poor)</td>\n",
       "      <td>Smaller (&lt;1.3 million)</td>\n",
       "      <td>Lower pop. density (&lt;10k per sq mi)</td>\n",
       "      <td>Highly Segregated (50%+)</td>\n",
       "      <td>Hispanic</td>\n",
       "      <td>Both</td>\n",
       "      <td>NaN</td>\n",
       "    </tr>\n",
       "    <tr>\n",
       "      <th>148289</th>\n",
       "      <td>Premature Death</td>\n",
       "      <td>Life Expectancy and Deaths</td>\n",
       "      <td>Deaths</td>\n",
       "      <td>Years of potential life lost before age 75 (pe...</td>\n",
       "      <td>Years per 100,000 population aged &lt;75</td>\n",
       "      <td>National Vital Statistics System (NVSS), Cente...</td>\n",
       "      <td>https://www.cdc.gov/nchs/nvss/index.htm</td>\n",
       "      <td>Houston</td>\n",
       "      <td>TX</td>\n",
       "      <td>Houston, TX</td>\n",
       "      <td>...</td>\n",
       "      <td>NaN</td>\n",
       "      <td>NaN</td>\n",
       "      <td>South</td>\n",
       "      <td>Less poor cities (&lt;20% poor)</td>\n",
       "      <td>Largest (&gt;1.3 million)</td>\n",
       "      <td>Lower pop. density (&lt;10k per sq mi)</td>\n",
       "      <td>Highly Segregated (50%+)</td>\n",
       "      <td>Asian/PI</td>\n",
       "      <td>Both</td>\n",
       "      <td>NaN</td>\n",
       "    </tr>\n",
       "    <tr>\n",
       "      <th>148290</th>\n",
       "      <td>Premature Death</td>\n",
       "      <td>Life Expectancy and Deaths</td>\n",
       "      <td>Deaths</td>\n",
       "      <td>Years of potential life lost before age 75 (pe...</td>\n",
       "      <td>Years per 100,000 population aged &lt;75</td>\n",
       "      <td>National Vital Statistics System (NVSS), Cente...</td>\n",
       "      <td>https://www.cdc.gov/nchs/nvss/index.htm</td>\n",
       "      <td>Milwaukee</td>\n",
       "      <td>WI</td>\n",
       "      <td>Milwaukee, WI</td>\n",
       "      <td>...</td>\n",
       "      <td>NaN</td>\n",
       "      <td>NaN</td>\n",
       "      <td>Midwest</td>\n",
       "      <td>Poorest cities (20%+ poor)</td>\n",
       "      <td>Smaller (&lt;1.3 million)</td>\n",
       "      <td>Lower pop. density (&lt;10k per sq mi)</td>\n",
       "      <td>Highly Segregated (50%+)</td>\n",
       "      <td>Asian/PI</td>\n",
       "      <td>Both</td>\n",
       "      <td>NaN</td>\n",
       "    </tr>\n",
       "    <tr>\n",
       "      <th>148291</th>\n",
       "      <td>Premature Death</td>\n",
       "      <td>Life Expectancy and Deaths</td>\n",
       "      <td>Deaths</td>\n",
       "      <td>Years of potential life lost before age 75 (pe...</td>\n",
       "      <td>Years per 100,000 population aged &lt;75</td>\n",
       "      <td>National Vital Statistics System (NVSS), Cente...</td>\n",
       "      <td>https://www.cdc.gov/nchs/nvss/index.htm</td>\n",
       "      <td>Long Beach</td>\n",
       "      <td>CA</td>\n",
       "      <td>Long Beach, CA</td>\n",
       "      <td>...</td>\n",
       "      <td>NaN</td>\n",
       "      <td>NaN</td>\n",
       "      <td>West</td>\n",
       "      <td>Less poor cities (&lt;20% poor)</td>\n",
       "      <td>Smaller (&lt;1.3 million)</td>\n",
       "      <td>Lower pop. density (&lt;10k per sq mi)</td>\n",
       "      <td>Highly Segregated (50%+)</td>\n",
       "      <td>Asian/PI</td>\n",
       "      <td>Both</td>\n",
       "      <td>NaN</td>\n",
       "    </tr>\n",
       "  </tbody>\n",
       "</table>\n",
       "<p>5 rows × 31 columns</p>\n",
       "</div>"
      ],
      "text/plain": [
       "       metric_item_label            metric_cat_label metric_subcat_label   \n",
       "148287   Premature Death  Life Expectancy and Deaths              Deaths  \\\n",
       "148288   Premature Death  Life Expectancy and Deaths              Deaths   \n",
       "148289   Premature Death  Life Expectancy and Deaths              Deaths   \n",
       "148290   Premature Death  Life Expectancy and Deaths              Deaths   \n",
       "148291   Premature Death  Life Expectancy and Deaths              Deaths   \n",
       "\n",
       "                               metric_item_label_subtitle   \n",
       "148287  Years of potential life lost before age 75 (pe...  \\\n",
       "148288  Years of potential life lost before age 75 (pe...   \n",
       "148289  Years of potential life lost before age 75 (pe...   \n",
       "148290  Years of potential life lost before age 75 (pe...   \n",
       "148291  Years of potential life lost before age 75 (pe...   \n",
       "\n",
       "                  metric_cat_item_yaxis_label   \n",
       "148287  Years per 100,000 population aged <75  \\\n",
       "148288  Years per 100,000 population aged <75   \n",
       "148289  Years per 100,000 population aged <75   \n",
       "148290  Years per 100,000 population aged <75   \n",
       "148291  Years per 100,000 population aged <75   \n",
       "\n",
       "                              metric_source_desc_label_fn   \n",
       "148287  National Vital Statistics System (NVSS), Cente...  \\\n",
       "148288  National Vital Statistics System (NVSS), Cente...   \n",
       "148289  National Vital Statistics System (NVSS), Cente...   \n",
       "148290  National Vital Statistics System (NVSS), Cente...   \n",
       "148291  National Vital Statistics System (NVSS), Cente...   \n",
       "\n",
       "                metric_source_desc_label_url_fn geo_label_city   \n",
       "148287  https://www.cdc.gov/nchs/nvss/index.htm  New York City  \\\n",
       "148288  https://www.cdc.gov/nchs/nvss/index.htm      Milwaukee   \n",
       "148289  https://www.cdc.gov/nchs/nvss/index.htm        Houston   \n",
       "148290  https://www.cdc.gov/nchs/nvss/index.htm      Milwaukee   \n",
       "148291  https://www.cdc.gov/nchs/nvss/index.htm     Long Beach   \n",
       "\n",
       "       geo_label_state geo_label_citystate  ... value_90_ci_low   \n",
       "148287              NY   New York City, NY  ...             NaN  \\\n",
       "148288              WI       Milwaukee, WI  ...             NaN   \n",
       "148289              TX         Houston, TX  ...             NaN   \n",
       "148290              WI       Milwaukee, WI  ...             NaN   \n",
       "148291              CA      Long Beach, CA  ...             NaN   \n",
       "\n",
       "        value_90_ci_high  geo_strata_region            geo_strata_poverty   \n",
       "148287               NaN          Northeast  Less poor cities (<20% poor)  \\\n",
       "148288               NaN            Midwest    Poorest cities (20%+ poor)   \n",
       "148289               NaN              South  Less poor cities (<20% poor)   \n",
       "148290               NaN            Midwest    Poorest cities (20%+ poor)   \n",
       "148291               NaN               West  Less poor cities (<20% poor)   \n",
       "\n",
       "         geo_strata_Population                  geo_strata_PopDensity   \n",
       "148287  Largest (>1.3 million)  Highest pop. density (>10k per sq mi)  \\\n",
       "148288  Smaller (<1.3 million)    Lower pop. density (<10k per sq mi)   \n",
       "148289  Largest (>1.3 million)    Lower pop. density (<10k per sq mi)   \n",
       "148290  Smaller (<1.3 million)    Lower pop. density (<10k per sq mi)   \n",
       "148291  Smaller (<1.3 million)    Lower pop. density (<10k per sq mi)   \n",
       "\n",
       "          geo_strata_Segregation strata_race_label strata_sex_label   \n",
       "148287  Highly Segregated (50%+)          Hispanic             Both  \\\n",
       "148288  Highly Segregated (50%+)          Hispanic             Both   \n",
       "148289  Highly Segregated (50%+)          Asian/PI             Both   \n",
       "148290  Highly Segregated (50%+)          Asian/PI             Both   \n",
       "148291  Highly Segregated (50%+)          Asian/PI             Both   \n",
       "\n",
       "       strata_race_sex_label  \n",
       "148287                   NaN  \n",
       "148288                   NaN  \n",
       "148289                   NaN  \n",
       "148290                   NaN  \n",
       "148291                   NaN  \n",
       "\n",
       "[5 rows x 31 columns]"
      ]
     },
     "execution_count": 5,
     "metadata": {},
     "output_type": "execute_result"
    }
   ],
   "source": [
    "data.tail()"
   ]
  },
  {
   "cell_type": "code",
   "execution_count": 6,
   "metadata": {},
   "outputs": [
    {
     "data": {
      "text/plain": [
       "geo_label_state  metric_item_label            \n",
       "AZ               Premature Death                  330\n",
       "                 Heart Disease Deaths             305\n",
       "                 Injury Deaths                    305\n",
       "                 Cardiovascular Disease Deaths    298\n",
       "                 All Cancer Deaths                292\n",
       "                                                 ... \n",
       "Washington       Uninsured                         82\n",
       "                 Flu Vaccinations                  47\n",
       "                 Racial Segregation                44\n",
       "                 Homelessness                      12\n",
       "                 Syphilis                          11\n",
       "Name: count, Length: 2258, dtype: int64"
      ]
     },
     "execution_count": 6,
     "metadata": {},
     "output_type": "execute_result"
    }
   ],
   "source": [
    "data.groupby('geo_label_state')['metric_item_label'].value_counts()\n"
   ]
  },
  {
   "attachments": {},
   "cell_type": "markdown",
   "metadata": {},
   "source": [
    "### Looking for Missing Values and Outliers\n",
    "The numerical columns in our data are: 'value_95_ci_low' and 'value_95_ci_high'"
   ]
  },
  {
   "cell_type": "code",
   "execution_count": 7,
   "metadata": {},
   "outputs": [
    {
     "data": {
      "text/plain": [
       "Text(0.5, 1.0, 'Percentage of Missing Values in \"value_95_ci_high\"')"
      ]
     },
     "execution_count": 7,
     "metadata": {},
     "output_type": "execute_result"
    },
    {
     "data": {
      "image/png": "[encoded data removed]",
      "text/plain": [
       "<Figure size 1000x500 with 2 Axes>"
      ]
     },
     "metadata": {},
     "output_type": "display_data"
    }
   ],
   "source": [
    "#Find NaNs in 'value_95_ci_low'\n",
    "nan_low = data['value_95_ci_low'].isna().value_counts()\n",
    "\n",
    "#Find NaNs in 'value_95_ci_low'\n",
    "nan_high = data['value_95_ci_high'].isna().value_counts()\n",
    "\n",
    "nan_low, nan_high\n",
    "\n",
    "fig, axs = plt.subplots(1, 2, figsize=(10, 5))\n",
    "\n",
    "# Plot the pie chart for 'value_95_ci_low'\n",
    "labels = ['Missing', 'Non-missing']\n",
    "sizes = [nan_low[True], nan_low[False]]\n",
    "axs[0].pie(sizes, labels=labels, autopct='%1.1f%%')\n",
    "axs[0].set_title('Percentage of Missing Values in \"value_95_ci_low\"')\n",
    "\n",
    "# Plot the pie chart for 'value_95_ci_high'\n",
    "labels = ['Missing', 'Non-missing']\n",
    "sizes = [nan_high[True], nan_high[False]]\n",
    "axs[1].pie(sizes, labels=labels, autopct='%1.1f%%')\n",
    "axs[1].set_title('Percentage of Missing Values in \"value_95_ci_high\"')\n",
    "\n"
   ]
  },
  {
   "cell_type": "code",
   "execution_count": 8,
   "metadata": {},
   "outputs": [],
   "source": [
    "#'value_95_ci_low' to numerical\n",
    "#data['value_95_ci_low'] = pd.to_numeric(data['value_95_ci_low'])"
   ]
  },
  {
   "cell_type": "code",
   "execution_count": 9,
   "metadata": {},
   "outputs": [
    {
     "data": {
      "text/plain": [
       "value_95_ci_low      object\n",
       "value_95_ci_high    float64\n",
       "dtype: object"
      ]
     },
     "execution_count": 9,
     "metadata": {},
     "output_type": "execute_result"
    }
   ],
   "source": [
    "num_col = data[['value_95_ci_low','value_95_ci_high']]\n",
    "num_col.dtypes"
   ]
  },
  {
   "cell_type": "code",
   "execution_count": null,
   "metadata": {},
   "outputs": [],
   "source": []
  }
 ],
 "metadata": {
  "kernelspec": {
   "display_name": "base",
   "language": "python",
   "name": "python3"
  },
  "language_info": {
   "codemirror_mode": {
    "name": "ipython",
    "version": 3
   },
   "file_extension": ".py",
   "mimetype": "text/x-python",
   "name": "python",
   "nbconvert_exporter": "python",
   "pygments_lexer": "ipython3",
   "version": "3.10.4"
  },
  "orig_nbformat": 4,
  "vscode": {
   "interpreter": {
    "hash": "f693d0b4461e49890f58f546ac60e2b0065455a37b54592d491bd64f0483037a"
   }
  }
 },
 "nbformat": 4,
 "nbformat_minor": 2
}
