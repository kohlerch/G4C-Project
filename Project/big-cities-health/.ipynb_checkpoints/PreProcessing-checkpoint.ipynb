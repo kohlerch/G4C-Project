{
 "cells": [
  {
   "cell_type": "code",
   "execution_count": 2,
   "metadata": {},
   "outputs": [],
   "source": [
    "import matplotlib.pyplot as plt\n",
    "import pandas as pd\n",
    "import numpy as np\n",
    "import seaborn as sns\n",
    "from sklearn.metrics import roc_auc_score, accuracy_score, precision_score, confusion_matrix, auc, classification_report, recall_score, f1_score\n",
    "from sklearn.model_selection import train_test_split\n",
    "from sklearn.preprocessing import StandardScaler\n",
    "from sklearn.linear_model import LinearRegression, LogisticRegression, Lasso, lasso_path\n",
    "from sklearn.ensemble import RandomForestRegressor, RandomForestClassifier\n",
    "from sklearn.preprocessing import OneHotEncoder\n",
    "from sklearn.decomposition import PCA\n",
    "from scipy.stats import chi2_contingency\n",
    "from sklearn.feature_selection import SelectKBest, f_regression\n",
    "from sklearn.impute import KNNImputer, SimpleImputer\n",
    "\n",
    "\n"
   ]
  },
  {
   "cell_type": "code",
   "execution_count": 3,
   "metadata": {},
   "outputs": [],
   "source": [
    "data = pd.read_csv('BigCitiesHealth.csv')"
   ]
  },
  {
   "cell_type": "code",
   "execution_count": 4,
   "metadata": {},
   "outputs": [
    {
     "data": {
      "text/plain": [
       "(148292, 31)"
      ]
     },
     "execution_count": 4,
     "metadata": {},
     "output_type": "execute_result"
    }
   ],
   "source": [
    "data.shape"
   ]
  },
  {
   "cell_type": "code",
   "execution_count": 5,
   "metadata": {},
   "outputs": [
    {
     "data": {
      "text/html": [
       "<div>\n",
       "<style scoped>\n",
       "    .dataframe tbody tr th:only-of-type {\n",
       "        vertical-align: middle;\n",
       "    }\n",
       "\n",
       "    .dataframe tbody tr th {\n",
       "        vertical-align: top;\n",
       "    }\n",
       "\n",
       "    .dataframe thead th {\n",
       "        text-align: right;\n",
       "    }\n",
       "</style>\n",
       "<table border=\"1\" class=\"dataframe\">\n",
       "  <thead>\n",
       "    <tr style=\"text-align: right;\">\n",
       "      <th></th>\n",
       "      <th>geo_fips_code</th>\n",
       "      <th>value</th>\n",
       "      <th>date_label</th>\n",
       "      <th>value_95_ci_low</th>\n",
       "      <th>value_95_ci_high</th>\n",
       "      <th>value_90_ci_low</th>\n",
       "      <th>value_90_ci_high</th>\n",
       "    </tr>\n",
       "  </thead>\n",
       "  <tbody>\n",
       "    <tr>\n",
       "      <th>count</th>\n",
       "      <td>1.471950e+05</td>\n",
       "      <td>147522.000000</td>\n",
       "      <td>148292.000000</td>\n",
       "      <td>93378.000000</td>\n",
       "      <td>93388.000000</td>\n",
       "      <td>0.0</td>\n",
       "      <td>0.0</td>\n",
       "    </tr>\n",
       "    <tr>\n",
       "      <th>mean</th>\n",
       "      <td>2.880322e+06</td>\n",
       "      <td>830.377923</td>\n",
       "      <td>2015.227996</td>\n",
       "      <td>468.838106</td>\n",
       "      <td>568.740516</td>\n",
       "      <td>NaN</td>\n",
       "      <td>NaN</td>\n",
       "    </tr>\n",
       "    <tr>\n",
       "      <th>std</th>\n",
       "      <td>1.697827e+06</td>\n",
       "      <td>4304.120276</td>\n",
       "      <td>3.112534</td>\n",
       "      <td>1742.895189</td>\n",
       "      <td>2043.575501</td>\n",
       "      <td>NaN</td>\n",
       "      <td>NaN</td>\n",
       "    </tr>\n",
       "    <tr>\n",
       "      <th>min</th>\n",
       "      <td>4.550000e+05</td>\n",
       "      <td>-1.052184</td>\n",
       "      <td>2010.000000</td>\n",
       "      <td>-148.037039</td>\n",
       "      <td>0.458320</td>\n",
       "      <td>NaN</td>\n",
       "      <td>NaN</td>\n",
       "    </tr>\n",
       "    <tr>\n",
       "      <th>25%</th>\n",
       "      <td>8.200000e+05</td>\n",
       "      <td>10.851578</td>\n",
       "      <td>2013.000000</td>\n",
       "      <td>9.337966</td>\n",
       "      <td>15.449973</td>\n",
       "      <td>NaN</td>\n",
       "      <td>NaN</td>\n",
       "    </tr>\n",
       "    <tr>\n",
       "      <th>50%</th>\n",
       "      <td>2.938000e+06</td>\n",
       "      <td>26.743773</td>\n",
       "      <td>2015.000000</td>\n",
       "      <td>23.259248</td>\n",
       "      <td>34.061614</td>\n",
       "      <td>NaN</td>\n",
       "      <td>NaN</td>\n",
       "    </tr>\n",
       "    <tr>\n",
       "      <th>75%</th>\n",
       "      <td>4.748000e+06</td>\n",
       "      <td>77.161225</td>\n",
       "      <td>2018.000000</td>\n",
       "      <td>109.929802</td>\n",
       "      <td>149.434371</td>\n",
       "      <td>NaN</td>\n",
       "      <td>NaN</td>\n",
       "    </tr>\n",
       "    <tr>\n",
       "      <th>max</th>\n",
       "      <td>5.553000e+06</td>\n",
       "      <td>99408.000000</td>\n",
       "      <td>2020.000000</td>\n",
       "      <td>22650.600880</td>\n",
       "      <td>29193.761110</td>\n",
       "      <td>NaN</td>\n",
       "      <td>NaN</td>\n",
       "    </tr>\n",
       "  </tbody>\n",
       "</table>\n",
       "</div>"
      ],
      "text/plain": [
       "       geo_fips_code          value     date_label  value_95_ci_low  \\\n",
       "count   1.471950e+05  147522.000000  148292.000000     93378.000000   \n",
       "mean    2.880322e+06     830.377923    2015.227996       468.838106   \n",
       "std     1.697827e+06    4304.120276       3.112534      1742.895189   \n",
       "min     4.550000e+05      -1.052184    2010.000000      -148.037039   \n",
       "25%     8.200000e+05      10.851578    2013.000000         9.337966   \n",
       "50%     2.938000e+06      26.743773    2015.000000        23.259248   \n",
       "75%     4.748000e+06      77.161225    2018.000000       109.929802   \n",
       "max     5.553000e+06   99408.000000    2020.000000     22650.600880   \n",
       "\n",
       "       value_95_ci_high  value_90_ci_low  value_90_ci_high  \n",
       "count      93388.000000              0.0               0.0  \n",
       "mean         568.740516              NaN               NaN  \n",
       "std         2043.575501              NaN               NaN  \n",
       "min            0.458320              NaN               NaN  \n",
       "25%           15.449973              NaN               NaN  \n",
       "50%           34.061614              NaN               NaN  \n",
       "75%          149.434371              NaN               NaN  \n",
       "max        29193.761110              NaN               NaN  "
      ]
     },
     "execution_count": 5,
     "metadata": {},
     "output_type": "execute_result"
    }
   ],
   "source": [
    "data.describe()"
   ]
  },
  {
   "cell_type": "code",
   "execution_count": 6,
   "metadata": {},
   "outputs": [
    {
     "data": {
      "text/plain": [
       "metric_item_label                   object\n",
       "metric_cat_label                    object\n",
       "metric_subcat_label                 object\n",
       "metric_item_label_subtitle          object\n",
       "metric_cat_item_yaxis_label         object\n",
       "metric_source_desc_label_fn         object\n",
       "metric_source_desc_label_url_fn     object\n",
       "geo_label_city                      object\n",
       "geo_label_state                     object\n",
       "geo_label_citystate                 object\n",
       "geo_fips_code                      float64\n",
       "value                              float64\n",
       "date_label                           int64\n",
       "geo_label_proxy_or_real             object\n",
       "geo_label_proxy_footnote            object\n",
       "geo_fips_desc                       object\n",
       "date_label_proxy_or_real            object\n",
       "date_label_proxy_footnote           object\n",
       "value_ci_flag_yesno                 object\n",
       "value_95_ci_low                    float64\n",
       "value_95_ci_high                   float64\n",
       "value_90_ci_low                    float64\n",
       "value_90_ci_high                   float64\n",
       "geo_strata_region                   object\n",
       "geo_strata_poverty                  object\n",
       "geo_strata_Population               object\n",
       "geo_strata_PopDensity               object\n",
       "geo_strata_Segregation              object\n",
       "strata_race_label                   object\n",
       "strata_sex_label                    object\n",
       "strata_race_sex_label               object\n",
       "dtype: object"
      ]
     },
     "execution_count": 6,
     "metadata": {},
     "output_type": "execute_result"
    }
   ],
   "source": [
    "\n",
    "data.dtypes"
   ]
  },
  {
   "cell_type": "code",
   "execution_count": 7,
   "metadata": {},
   "outputs": [],
   "source": [
    "outcome_counts = data.groupby(['geo_label_city', 'metric_item_label']).size().reset_index(name='count')\n"
   ]
  },
  {
   "cell_type": "code",
   "execution_count": 8,
   "metadata": {},
   "outputs": [],
   "source": [
    "top_outcomes = outcome_counts.groupby('metric_item_label').sum().sort_values(by='count', ascending=False).head(10).index\n"
   ]
  },
  {
   "cell_type": "code",
   "execution_count": 9,
   "metadata": {},
   "outputs": [],
   "source": [
    "outcome_counts_top = outcome_counts[outcome_counts['metric_item_label'].isin(top_outcomes)]\n"
   ]
  },
  {
   "cell_type": "code",
   "execution_count": 10,
   "metadata": {},
   "outputs": [],
   "source": [
    "pivot_table = pd.pivot_table(outcome_counts_top, values='count', index='geo_label_city', columns='metric_item_label', fill_value=0)\n"
   ]
  },
  {
   "cell_type": "code",
   "execution_count": 11,
   "metadata": {},
   "outputs": [],
   "source": [
    "data = data.drop('metric_source_desc_label_url_fn', axis = 1)"
   ]
  },
  {
   "cell_type": "code",
   "execution_count": 12,
   "metadata": {},
   "outputs": [
    {
     "data": {
      "text/plain": [
       "<matplotlib.legend.Legend at 0x7f94a8d40e20>"
      ]
     },
     "execution_count": 12,
     "metadata": {},
     "output_type": "execute_result"
    },
    {
     "data": {
      "image/png": "[encoded data removed]",
      "text/plain": [
       "<Figure size 640x480 with 1 Axes>"
      ]
     },
     "metadata": {},
     "output_type": "display_data"
    }
   ],
   "source": [
    "ax = pivot_table.plot(kind='bar', stacked=True)\n",
    "ax.legend(loc='center left', bbox_to_anchor=(1, 0.5))\n",
    "\n"
   ]
  },
  {
   "cell_type": "markdown",
   "metadata": {},
   "source": [
    "# Data PreProcessing"
   ]
  },
  {
   "cell_type": "code",
   "execution_count": 13,
   "metadata": {},
   "outputs": [
    {
     "data": {
      "text/plain": [
       "metric_item_label                   0\n",
       "metric_cat_label                    0\n",
       "metric_subcat_label                 0\n",
       "metric_item_label_subtitle          0\n",
       "metric_cat_item_yaxis_label         0\n",
       "metric_source_desc_label_fn         0\n",
       "geo_label_city                      0\n",
       "geo_label_state                  1097\n",
       "geo_label_citystate                 0\n",
       "geo_fips_code                    1097\n",
       "value                             770\n",
       "date_label                          0\n",
       "geo_label_proxy_or_real             0\n",
       "geo_label_proxy_footnote       133002\n",
       "geo_fips_desc                       0\n",
       "date_label_proxy_or_real            0\n",
       "date_label_proxy_footnote      104164\n",
       "value_ci_flag_yesno                 0\n",
       "value_95_ci_low                 54914\n",
       "value_95_ci_high                54904\n",
       "value_90_ci_low                148292\n",
       "value_90_ci_high               148292\n",
       "geo_strata_region                1097\n",
       "geo_strata_poverty               1097\n",
       "geo_strata_Population            1097\n",
       "geo_strata_PopDensity            1097\n",
       "geo_strata_Segregation           1097\n",
       "strata_race_label                   0\n",
       "strata_sex_label                    0\n",
       "strata_race_sex_label          112722\n",
       "dtype: int64"
      ]
     },
     "execution_count": 13,
     "metadata": {},
     "output_type": "execute_result"
    }
   ],
   "source": [
    "data.isnull().sum()"
   ]
  },
  {
   "cell_type": "markdown",
   "metadata": {},
   "source": [
    "Deleting the columns that contain more than 50% (74'146) missing values."
   ]
  },
  {
   "cell_type": "code",
   "execution_count": 14,
   "metadata": {},
   "outputs": [
    {
     "data": {
      "text/plain": [
       "['geo_label_proxy_footnote',\n",
       " 'date_label_proxy_footnote',\n",
       " 'value_90_ci_low',\n",
       " 'value_90_ci_high',\n",
       " 'strata_race_sex_label']"
      ]
     },
     "execution_count": 14,
     "metadata": {},
     "output_type": "execute_result"
    }
   ],
   "source": [
    "missing_values = data.isnull().mean()\n",
    "columns_to_drop = list(missing_values[missing_values > 0.5].index)\n",
    "data = data.drop(columns_to_drop, axis=1)\n",
    "columns_to_drop"
   ]
  },
  {
   "cell_type": "markdown",
   "metadata": {},
   "source": [
    "Detect Numerical and Categorical Features"
   ]
  },
  {
   "cell_type": "code",
   "execution_count": 15,
   "metadata": {},
   "outputs": [
    {
     "data": {
      "text/plain": [
       "(Index(['geo_fips_code', 'value', 'date_label', 'value_95_ci_low',\n",
       "        'value_95_ci_high'],\n",
       "       dtype='object'),\n",
       " Index(['metric_item_label', 'metric_cat_label', 'metric_subcat_label',\n",
       "        'metric_item_label_subtitle', 'metric_cat_item_yaxis_label',\n",
       "        'metric_source_desc_label_fn', 'geo_label_city', 'geo_label_state',\n",
       "        'geo_label_citystate', 'geo_label_proxy_or_real', 'geo_fips_desc',\n",
       "        'date_label_proxy_or_real', 'value_ci_flag_yesno', 'geo_strata_region',\n",
       "        'geo_strata_poverty', 'geo_strata_Population', 'geo_strata_PopDensity',\n",
       "        'geo_strata_Segregation', 'strata_race_label', 'strata_sex_label'],\n",
       "       dtype='object'))"
      ]
     },
     "execution_count": 15,
     "metadata": {},
     "output_type": "execute_result"
    }
   ],
   "source": [
    "num_features = data.select_dtypes(include=['float64', 'int64']).columns\n",
    "cat_features = data.select_dtypes(include=['object']).columns\n",
    "num_features, cat_features"
   ]
  },
  {
   "cell_type": "markdown",
   "metadata": {},
   "source": [
    "Filling in the missing spots (KNN in numerical and Simple for numerical)"
   ]
  },
  {
   "cell_type": "code",
   "execution_count": 16,
   "metadata": {},
   "outputs": [],
   "source": [
    "imputerKNN = KNNImputer(n_neighbors=3)\n",
    "imputerCat = SimpleImputer(strategy='most_frequent')\n",
    "imputerNum = SimpleImputer(strategy='median')"
   ]
  },
  {
   "cell_type": "code",
   "execution_count": 17,
   "metadata": {},
   "outputs": [],
   "source": [
    "data[cat_features] = imputerCat.fit_transform(data[cat_features])\n"
   ]
  },
  {
   "cell_type": "code",
   "execution_count": 18,
   "metadata": {},
   "outputs": [
    {
     "name": "stderr",
     "output_type": "stream",
     "text": [
      "/Users/charlottekohler/opt/anaconda3/lib/python3.9/site-packages/numpy/core/fromnumeric.py:3721: FutureWarning: Dropping of nuisance columns in DataFrame reductions (with 'numeric_only=None') is deprecated; in a future version this will raise TypeError.  Select only valid columns before calling the reduction.\n",
      "  return var(axis=axis, dtype=dtype, out=out, ddof=ddof, **kwargs)\n"
     ]
    },
    {
     "data": {
      "text/plain": [
       "geo_fips_code       2.882597e+12\n",
       "value               1.852533e+07\n",
       "date_label          9.687801e+00\n",
       "value_95_ci_low     3.037651e+06\n",
       "value_95_ci_high    4.176156e+06\n",
       "dtype: float64"
      ]
     },
     "execution_count": 18,
     "metadata": {},
     "output_type": "execute_result"
    }
   ],
   "source": [
    "np.var(data)"
   ]
  },
  {
   "cell_type": "markdown",
   "metadata": {},
   "source": [
    "Since all have high variance but not \"date_label\" we use median for datasets with high variance and mean imputation for data with low variance.(But \"date_label\" has no missing value so using median for all)"
   ]
  },
  {
   "cell_type": "code",
   "execution_count": 19,
   "metadata": {},
   "outputs": [],
   "source": [
    "data[num_features] = imputerNum.fit_transform(data[num_features])"
   ]
  },
  {
   "cell_type": "code",
   "execution_count": 20,
   "metadata": {},
   "outputs": [
    {
     "data": {
      "text/plain": [
       "metric_item_label              0\n",
       "metric_cat_label               0\n",
       "metric_subcat_label            0\n",
       "metric_item_label_subtitle     0\n",
       "metric_cat_item_yaxis_label    0\n",
       "metric_source_desc_label_fn    0\n",
       "geo_label_city                 0\n",
       "geo_label_state                0\n",
       "geo_label_citystate            0\n",
       "geo_fips_code                  0\n",
       "value                          0\n",
       "date_label                     0\n",
       "geo_label_proxy_or_real        0\n",
       "geo_fips_desc                  0\n",
       "date_label_proxy_or_real       0\n",
       "value_ci_flag_yesno            0\n",
       "value_95_ci_low                0\n",
       "value_95_ci_high               0\n",
       "geo_strata_region              0\n",
       "geo_strata_poverty             0\n",
       "geo_strata_Population          0\n",
       "geo_strata_PopDensity          0\n",
       "geo_strata_Segregation         0\n",
       "strata_race_label              0\n",
       "strata_sex_label               0\n",
       "dtype: int64"
      ]
     },
     "execution_count": 20,
     "metadata": {},
     "output_type": "execute_result"
    }
   ],
   "source": [
    "data.isnull().sum()"
   ]
  },
  {
   "cell_type": "code",
   "execution_count": 21,
   "metadata": {},
   "outputs": [],
   "source": [
    "#data[num_features] = imputerKNN.fit_transform(data[num_features])\n"
   ]
  },
  {
   "cell_type": "markdown",
   "metadata": {},
   "source": [
    "No more missing values. Now is time for data analysis and feature selection"
   ]
  },
  {
   "cell_type": "code",
   "execution_count": 22,
   "metadata": {},
   "outputs": [
    {
     "data": {
      "text/html": [
       "<div>\n",
       "<style scoped>\n",
       "    .dataframe tbody tr th:only-of-type {\n",
       "        vertical-align: middle;\n",
       "    }\n",
       "\n",
       "    .dataframe tbody tr th {\n",
       "        vertical-align: top;\n",
       "    }\n",
       "\n",
       "    .dataframe thead th {\n",
       "        text-align: right;\n",
       "    }\n",
       "</style>\n",
       "<table border=\"1\" class=\"dataframe\">\n",
       "  <thead>\n",
       "    <tr style=\"text-align: right;\">\n",
       "      <th></th>\n",
       "      <th>geo_fips_code</th>\n",
       "      <th>value</th>\n",
       "      <th>date_label</th>\n",
       "      <th>value_95_ci_low</th>\n",
       "      <th>value_95_ci_high</th>\n",
       "    </tr>\n",
       "  </thead>\n",
       "  <tbody>\n",
       "    <tr>\n",
       "      <th>count</th>\n",
       "      <td>1.482920e+05</td>\n",
       "      <td>148292.000000</td>\n",
       "      <td>148292.000000</td>\n",
       "      <td>148292.000000</td>\n",
       "      <td>148292.000000</td>\n",
       "    </tr>\n",
       "    <tr>\n",
       "      <th>mean</th>\n",
       "      <td>2.880748e+06</td>\n",
       "      <td>826.205087</td>\n",
       "      <td>2015.227996</td>\n",
       "      <td>303.835831</td>\n",
       "      <td>370.779665</td>\n",
       "    </tr>\n",
       "    <tr>\n",
       "      <th>std</th>\n",
       "      <td>1.691543e+06</td>\n",
       "      <td>4293.319708</td>\n",
       "      <td>3.112534</td>\n",
       "      <td>1399.674150</td>\n",
       "      <td>1642.145192</td>\n",
       "    </tr>\n",
       "    <tr>\n",
       "      <th>min</th>\n",
       "      <td>4.550000e+05</td>\n",
       "      <td>-1.052184</td>\n",
       "      <td>2010.000000</td>\n",
       "      <td>-148.037039</td>\n",
       "      <td>0.458320</td>\n",
       "    </tr>\n",
       "    <tr>\n",
       "      <th>25%</th>\n",
       "      <td>8.200000e+05</td>\n",
       "      <td>10.913543</td>\n",
       "      <td>2013.000000</td>\n",
       "      <td>15.860769</td>\n",
       "      <td>24.484818</td>\n",
       "    </tr>\n",
       "    <tr>\n",
       "      <th>50%</th>\n",
       "      <td>2.938000e+06</td>\n",
       "      <td>26.743773</td>\n",
       "      <td>2015.000000</td>\n",
       "      <td>23.259248</td>\n",
       "      <td>34.061614</td>\n",
       "    </tr>\n",
       "    <tr>\n",
       "      <th>75%</th>\n",
       "      <td>4.748000e+06</td>\n",
       "      <td>76.710433</td>\n",
       "      <td>2018.000000</td>\n",
       "      <td>36.684472</td>\n",
       "      <td>52.822604</td>\n",
       "    </tr>\n",
       "    <tr>\n",
       "      <th>max</th>\n",
       "      <td>5.553000e+06</td>\n",
       "      <td>99408.000000</td>\n",
       "      <td>2020.000000</td>\n",
       "      <td>22650.600880</td>\n",
       "      <td>29193.761110</td>\n",
       "    </tr>\n",
       "  </tbody>\n",
       "</table>\n",
       "</div>"
      ],
      "text/plain": [
       "       geo_fips_code          value     date_label  value_95_ci_low  \\\n",
       "count   1.482920e+05  148292.000000  148292.000000    148292.000000   \n",
       "mean    2.880748e+06     826.205087    2015.227996       303.835831   \n",
       "std     1.691543e+06    4293.319708       3.112534      1399.674150   \n",
       "min     4.550000e+05      -1.052184    2010.000000      -148.037039   \n",
       "25%     8.200000e+05      10.913543    2013.000000        15.860769   \n",
       "50%     2.938000e+06      26.743773    2015.000000        23.259248   \n",
       "75%     4.748000e+06      76.710433    2018.000000        36.684472   \n",
       "max     5.553000e+06   99408.000000    2020.000000     22650.600880   \n",
       "\n",
       "       value_95_ci_high  \n",
       "count     148292.000000  \n",
       "mean         370.779665  \n",
       "std         1642.145192  \n",
       "min            0.458320  \n",
       "25%           24.484818  \n",
       "50%           34.061614  \n",
       "75%           52.822604  \n",
       "max        29193.761110  "
      ]
     },
     "execution_count": 22,
     "metadata": {},
     "output_type": "execute_result"
    }
   ],
   "source": [
    "data.describe()"
   ]
  },
  {
   "cell_type": "markdown",
   "metadata": {},
   "source": [
    "For value_95_ci_low and value_95_ci_high, the mean has drastically changed. Maybe use another filling type.\n",
    "\n",
    "Now encode Categorical Features:"
   ]
  },
  {
   "cell_type": "code",
   "execution_count": 23,
   "metadata": {},
   "outputs": [
    {
     "data": {
      "text/plain": [
       "(148292, 25)"
      ]
     },
     "execution_count": 23,
     "metadata": {},
     "output_type": "execute_result"
    }
   ],
   "source": [
    "data.values.shape"
   ]
  },
  {
   "cell_type": "code",
   "execution_count": 24,
   "metadata": {},
   "outputs": [],
   "source": [
    "X = data.values\n",
    "y = data['metric_item_label'].values"
   ]
  },
  {
   "cell_type": "code",
   "execution_count": 25,
   "metadata": {},
   "outputs": [],
   "source": [
    "column_names = ['metric_item_label', 'metric_cat_label', 'metric_subcat_label',\n",
    "        'metric_item_label_subtitle', 'metric_cat_item_yaxis_label',\n",
    "        'metric_source_desc_label_fn', 'geo_label_city', 'geo_label_state',\n",
    "        'geo_label_citystate', 'geo_fips_code', 'value', 'date_label',\n",
    "        'geo_label_proxy_or_real', 'geo_fips_desc', 'date_label_proxy_or_real',\n",
    "        'value_ci_flag_yesno', 'value_95_ci_low', 'value_95_ci_high',\n",
    "        'geo_strata_region', 'geo_strata_poverty', 'geo_strata_Population',\n",
    "        'geo_strata_PopDensity', 'geo_strata_Segregation', 'strata_race_label',\n",
    "        'strata_sex_label']"
   ]
  },
  {
   "cell_type": "code",
   "execution_count": 26,
   "metadata": {},
   "outputs": [],
   "source": [
    "X = pd.DataFrame(X, columns=column_names)\n",
    "y = pd.Series(y, name='metric_item_label')"
   ]
  },
  {
   "cell_type": "code",
   "execution_count": 27,
   "metadata": {},
   "outputs": [],
   "source": [
    "num_cols = X.columns.drop(data.select_dtypes(include=['object']).columns)\n",
    "cate_cols = X.columns.drop(X.select_dtypes(include=['float64', 'int64']).columns).drop('metric_item_label')"
   ]
  },
  {
   "cell_type": "code",
   "execution_count": 28,
   "metadata": {},
   "outputs": [
    {
     "data": {
      "text/plain": [
       "Index(['metric_cat_label', 'metric_subcat_label', 'metric_item_label_subtitle',\n",
       "       'metric_cat_item_yaxis_label', 'metric_source_desc_label_fn',\n",
       "       'geo_label_city', 'geo_label_state', 'geo_label_citystate',\n",
       "       'geo_fips_code', 'value', 'date_label', 'geo_label_proxy_or_real',\n",
       "       'geo_fips_desc', 'date_label_proxy_or_real', 'value_ci_flag_yesno',\n",
       "       'value_95_ci_low', 'value_95_ci_high', 'geo_strata_region',\n",
       "       'geo_strata_poverty', 'geo_strata_Population', 'geo_strata_PopDensity',\n",
       "       'geo_strata_Segregation', 'strata_race_label', 'strata_sex_label'],\n",
       "      dtype='object')"
      ]
     },
     "execution_count": 28,
     "metadata": {},
     "output_type": "execute_result"
    }
   ],
   "source": [
    "cate_cols"
   ]
  },
  {
   "cell_type": "code",
   "execution_count": 29,
   "metadata": {},
   "outputs": [],
   "source": [
    "encoder = OneHotEncoder()\n",
    "X_encoded = encoder.fit_transform(X[cate_cols])\n",
    "col_names = encoder.get_feature_names_out(cate_cols)\n",
    "X = pd.DataFrame(X_encoded.toarray(), columns=col_names)\n"
   ]
  },
  {
   "cell_type": "code",
   "execution_count": null,
   "metadata": {},
   "outputs": [],
   "source": [
    "X_train, X_test, y_train, y_test = train_test_split(X, y, test_size=0.2, random_state=42)\n"
   ]
  },
  {
   "cell_type": "code",
   "execution_count": null,
   "metadata": {},
   "outputs": [],
   "source": []
  },
  {
   "cell_type": "markdown",
   "metadata": {},
   "source": [
    "# Feature Selection\n"
   ]
  },
  {
   "cell_type": "code",
   "execution_count": null,
   "metadata": {},
   "outputs": [],
   "source": [
    "sc = StandardScaler()"
   ]
  },
  {
   "cell_type": "code",
   "execution_count": null,
   "metadata": {},
   "outputs": [],
   "source": [
    "X_scaled = sc.fit_transform(X)\n",
    "X_scaled_abs = abs(X_scaled)"
   ]
  },
  {
   "cell_type": "markdown",
   "metadata": {},
   "source": [
    "Using Lasso"
   ]
  },
  {
   "cell_type": "code",
   "execution_count": null,
   "metadata": {},
   "outputs": [],
   "source": [
    "lasso = Lasso(alpha=0.1)\n",
    "lasso.fit(X, y)\n",
    "lasso_coefficiants = lasso.coef_ "
   ]
  },
  {
   "cell_type": "code",
   "execution_count": null,
   "metadata": {},
   "outputs": [],
   "source": [
    "coef = np.abs(lasso.coef_)\n",
    "coef_sorted = np.argsort(coef)[::-1]\n",
    "\n",
    "feature_names = data.columns[coef_sorted[:15]]"
   ]
  },
  {
   "cell_type": "code",
   "execution_count": null,
   "metadata": {},
   "outputs": [],
   "source": [
    "plt.figure(figsize=(10,6))\n",
    "plt.bar(feature_names, coef[coef_sorted[:15]])\n",
    "plt.xticks(rotation=45, ha='right')\n",
    "plt.xlabel('Feature')\n",
    "plt.ylabel('Coefficient')\n",
    "plt.title('Top 15 Features Selected by Lasso')"
   ]
  },
  {
   "cell_type": "markdown",
   "metadata": {},
   "source": [
    "Random Forest Method"
   ]
  },
  {
   "cell_type": "code",
   "execution_count": null,
   "metadata": {},
   "outputs": [],
   "source": [
    "rf = RandomForestClassifier(n_estimators=100, random_state=42)\n",
    "rf.fit(X, y)\n",
    "\n",
    "# Get feature importances\n",
    "importances = rf.feature_importances_\n",
    "\n",
    "# Get the indices of the top 15 features\n",
    "indices = (-importances).argsort()[:15]\n",
    "\n",
    "# Get feature names\n",
    "feature_names = X_scaled.columns[sorted_idx]\n",
    "\n",
    "plt.figure(figsize=(10, 6))\n",
    "plt.bar(np.arange(len(indices)), importances[indices])\n",
    "plt.xticks(np.arange(len(indices)), feature_names, rotation=45, ha='right')\n",
    "plt.xlabel(\"Feature\")\n",
    "plt.ylabel(\"Importance\")\n",
    "plt.title(\"Top 15 Features Selected by Random Forest\")\n",
    "plt.tight_layout()"
   ]
  },
  {
   "cell_type": "markdown",
   "metadata": {},
   "source": [
    "Pearson"
   ]
  },
  {
   "cell_type": "code",
   "execution_count": null,
   "metadata": {},
   "outputs": [],
   "source": [
    "correlations = np.abs(np.corrcoef(X.T, y)[:4, 4])\n",
    "\n",
    "pearson_selector = SelectKBest(score_func=f_regression, k=15)\n",
    "pearson_selector.fit(X, y)\n",
    "pearson_selected = pearson_selector.get_support(indices=True)\n",
    "\n",
    "indices = np.argsort(pearson_selector.scores_[pearson_selected])[::-1]\n",
    "\n",
    "plt.figure(figsize=(10, 6))\n",
    "plt.bar(np.arange(15), pearson_selector.scores_[pearson_selected][indices])\n",
    "plt.xticks(np.arange(15), data.columns[pearson_selected][indices], rotation=45, ha=\"right\")\n",
    "plt.xlabel(\"Feature\")\n",
    "plt.ylabel(\"Pearson correlation score\")\n",
    "plt.title(\"15 Best Features Selected by Pearson Correlation (Descending Order)\")"
   ]
  },
  {
   "cell_type": "markdown",
   "metadata": {},
   "source": [
    "Compare Both"
   ]
  },
  {
   "cell_type": "code",
   "execution_count": null,
   "metadata": {},
   "outputs": [],
   "source": [
    "overlap = set()"
   ]
  },
  {
   "cell_type": "markdown",
   "metadata": {},
   "source": [
    "# Data Visualisation"
   ]
  },
  {
   "cell_type": "code",
   "execution_count": null,
   "metadata": {},
   "outputs": [],
   "source": [
    "data.describe()"
   ]
  },
  {
   "cell_type": "code",
   "execution_count": null,
   "metadata": {},
   "outputs": [],
   "source": []
  }
 ],
 "metadata": {
  "kernelspec": {
   "display_name": "Python 3 (ipykernel)",
   "language": "python",
   "name": "python3"
  },
  "language_info": {
   "codemirror_mode": {
    "name": "ipython",
    "version": 3
   },
   "file_extension": ".py",
   "mimetype": "text/x-python",
   "name": "python",
   "nbconvert_exporter": "python",
   "pygments_lexer": "ipython3",
   "version": "3.9.13"
  },
  "vscode": {
   "interpreter": {
    "hash": "f693d0b4461e49890f58f546ac60e2b0065455a37b54592d491bd64f0483037a"
   }
  }
 },
 "nbformat": 4,
 "nbformat_minor": 2
}
